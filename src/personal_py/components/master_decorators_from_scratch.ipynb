{
 "cells": [
  {
   "cell_type": "code",
   "execution_count": null,
   "id": "675e1e47",
   "metadata": {},
   "outputs": [],
   "source": [
    "import statistics\n",
    "def calculate_average(numbers: list) -> float:\n",
    "    \"\"\"\n",
    "    Calculate the average of a list of numbers.\n",
    "\n",
    "    :param numbers: List of numbers to calculate the average for.\n",
    "    :return: The average as a string formatted to two decimal places.\n",
    "    \"\"\"\n",
    "    if numbers is None or len(numbers) == 0:\n",
    "        print(\"No numbers provided\")\n",
    "        return None\n",
    "    else:\n",
    "        print(f'Count:{len(numbers)}, Average: {statistics.mean(numbers)}')\n",
    "        return statistics.mean(numbers)"
   ]
  },
  {
   "cell_type": "code",
   "execution_count": 7,
   "id": "08972bcb",
   "metadata": {},
   "outputs": [
    {
     "name": "stdout",
     "output_type": "stream",
     "text": [
      "Count:5, Average: 3\n"
     ]
    },
    {
     "data": {
      "text/plain": [
       "3"
      ]
     },
     "execution_count": 7,
     "metadata": {},
     "output_type": "execute_result"
    }
   ],
   "source": [
    "calculate_average([1, 2, 3, 4, 5])"
   ]
  },
  {
   "cell_type": "code",
   "execution_count": 9,
   "id": "fc0465e7",
   "metadata": {},
   "outputs": [],
   "source": [
    "#Variadic function question\n",
    "import statistics\n",
    "def calculate_average(*args, round_to=2) -> float:\n",
    "    \"\"\"\n",
    "    Calculate the average of a list of numbers.\n",
    "\n",
    "    :param numbers: List of numbers to calculate the average for.\n",
    "    :return: The average as a string formatted to two decimal places.\n",
    "    \"\"\"\n",
    "    if args is None or len(args) == 0:\n",
    "        print(\"No numbers provided\")\n",
    "        return None\n",
    "    else:\n",
    "        print(f'Count:{len(args)}, Average: {statistics.mean(args)}')\n",
    "        return statistics.mean(args).round(round_to)"
   ]
  },
  {
   "cell_type": "code",
   "execution_count": 2,
   "id": "161084cb",
   "metadata": {},
   "outputs": [
    {
     "data": {
      "text/plain": [
       "'HELLO, ALICE!'"
      ]
     },
     "execution_count": 2,
     "metadata": {},
     "output_type": "execute_result"
    }
   ],
   "source": [
    "# Higher Order function to calculate average\n",
    "\n",
    "# Higher order functions are functions that take one or more functions as arguments, or return a function as their result.\n",
    "\n",
    "def loud(func):\n",
    "    \"\"\"\n",
    "    Decorator to make the output of the function loud.\n",
    "    \n",
    "    :param func: Function to be decorated.\n",
    "    :return: Wrapped function that prints output in uppercase.\n",
    "    \"\"\"\n",
    "    def wrapper(*args, **kwargs):\n",
    "        result = func(*args, **kwargs)\n",
    "        return result.upper()\n",
    "    return wrapper\n",
    "\n",
    "def hello(name: str) -> str:\n",
    "    \"\"\"\n",
    "    Function to greet a person.\n",
    "\n",
    "    :param name: Name of the person to greet.\n",
    "    :return: Greeting message.\n",
    "    \"\"\"\n",
    "    return f\"Hello, {name}!\"\n",
    "\n",
    "greet = loud(hello)\n",
    "greet(\"Alice\")"
   ]
  },
  {
   "cell_type": "code",
   "execution_count": 3,
   "id": "895a6298",
   "metadata": {},
   "outputs": [
    {
     "name": "stdout",
     "output_type": "stream",
     "text": [
      "Result of double add: 16\n"
     ]
    }
   ],
   "source": [
    "def add(x: int, y: int) -> int:\n",
    "    \"\"\"\n",
    "    Function to add two numbers.\n",
    "    :param x: First number.\n",
    "    :param y: Second number.\n",
    "    :return: Sum of the two numbers.\n",
    "    \"\"\"\n",
    "    return x + y\n",
    "\n",
    "def double_add(func):\n",
    "    \"\"\"\n",
    "    Decorator to double the result of the add function.\n",
    "    \n",
    "    :param func: Function to be decorated.\n",
    "    :return: Wrapped function that doubles the result.\n",
    "    \"\"\"\n",
    "    def wrapper(x,y):\n",
    "        return func(x, y) * 2\n",
    "    return wrapper\n",
    "\n",
    "double_add_func = double_add(add)\n",
    "result = double_add_func(3, 5)\n",
    "print(f\"Result of double add: {result}\")"
   ]
  },
  {
   "cell_type": "code",
   "execution_count": 4,
   "id": "2d3cc30d",
   "metadata": {},
   "outputs": [
    {
     "name": "stdout",
     "output_type": "stream",
     "text": [
      "HELLO, ALICE!\n",
      "Hello, Bob!\n"
     ]
    }
   ],
   "source": [
    "# First-class functions: Functions that can be passed around as arguments, returned from other functions, and assigned to variables.\n",
    "def loud_greeting(name: str) -> str:\n",
    "    \"\"\"\n",
    "    Function to greet a person loudly.\n",
    "    :param name: Name of the person to greet.\n",
    "    :return: Loud greeting message.\n",
    "    \"\"\"\n",
    "    return f\"HELLO, {name.upper()}!\"\n",
    "\n",
    "def normal_greeting(name: str) -> str:\n",
    "    \"\"\"\n",
    "    Function to greet a person normally.\n",
    "    :param name: Name of the person to greet.\n",
    "    :return: Normal greeting message.\n",
    "    \"\"\"\n",
    "    return f\"Hello, {name}!\"\n",
    "\n",
    "def greet_person(name: str, greeting_func) -> str:\n",
    "    \"\"\"\n",
    "    Function to greet a person using a specified greeting function.\n",
    "    \n",
    "    :param name: Name of the person to greet.\n",
    "    :param greeting_func: Function to use for greeting.\n",
    "    :return: Greeting message.\n",
    "    \"\"\"\n",
    "    return greeting_func(name)\n",
    "\n",
    "# Example usage of first-class functions\n",
    "print(greet_person(\"Alice\", loud_greeting))\n",
    "print(greet_person(\"Bob\", normal_greeting))"
   ]
  },
  {
   "cell_type": "code",
   "execution_count": null,
   "id": "80e8e4ff",
   "metadata": {},
   "outputs": [],
   "source": []
  }
 ],
 "metadata": {
  "kernelspec": {
   "display_name": "base",
   "language": "python",
   "name": "python3"
  },
  "language_info": {
   "codemirror_mode": {
    "name": "ipython",
    "version": 3
   },
   "file_extension": ".py",
   "mimetype": "text/x-python",
   "name": "python",
   "nbconvert_exporter": "python",
   "pygments_lexer": "ipython3",
   "version": "3.12.7"
  }
 },
 "nbformat": 4,
 "nbformat_minor": 5
}
